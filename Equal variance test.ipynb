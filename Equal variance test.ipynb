{
 "cells": [
  {
   "cell_type": "code",
   "execution_count": 1,
   "metadata": {},
   "outputs": [],
   "source": [
    "import pandas as pd\n",
    "import numpy as np\n",
    "import matplotlib.pyplot as plt\n",
    "from sklearn import datasets\n",
    "import random\n",
    "from sklearn.naive_bayes import GaussianNB\n",
    "from sklearn.linear_model import LogisticRegression\n",
    "from sklearn.ensemble import RandomForestClassifier\n",
    "from sklearn.svm import LinearSVC\n",
    "from sklearn.calibration import calibration_curve\n",
    "from sklearn.model_selection import train_test_split\n",
    "from sklearn.metrics import confusion_matrix\n",
    "from sklearn.naive_bayes import BernoulliNB\n",
    "from sklearn.tree import DecisionTreeClassifier\n",
    "from sklearn.discriminant_analysis import QuadraticDiscriminantAnalysis\n",
    "import warnings\n",
    "import seaborn as sns\n",
    "warnings.filterwarnings('ignore')\n",
    "\n",
    "%matplotlib inline\n",
    "#plt.style.use('ggplot')"
   ]
  },
  {
   "cell_type": "code",
   "execution_count": 6,
   "metadata": {},
   "outputs": [],
   "source": [
    "def class_contour(X,X_train,Y_train,model):\n",
    "    ''' function that returns arrays of the countour of the decision boundary of class 0 '''    \n",
    "    xx, yy = np.meshgrid(np.linspace(-2, 2, 100),\n",
    "                        np.linspace(-2, 2, 100))\n",
    "    if model == 'naive':\n",
    "        clf = GaussianNB()\n",
    "        clf.fit(X_train,np.array(Y_train))\n",
    "        Z = clf.predict_proba(np.c_[xx.ravel(),yy.ravel()])\n",
    "        Z = Z[:,1].reshape(xx.shape)\n",
    "    elif model == 'dt':\n",
    "        clf = DecisionTreeClassifier(random_state=0).fit(X_train,np.array(Y_train))\n",
    "        Z = clf.predict_proba(np.c_[xx.ravel(),yy.ravel()])\n",
    "        Z = Z[:,1].reshape(xx.shape)\n",
    "    return xx,yy,Z"
   ]
  },
  {
   "cell_type": "code",
   "execution_count": 28,
   "metadata": {},
   "outputs": [
    {
     "data": {
      "image/png": "[encoded data removed]",
      "text/plain": [
       "<Figure size 432x288 with 1 Axes>"
      ]
     },
     "metadata": {
      "needs_background": "light"
     },
     "output_type": "display_data"
    }
   ],
   "source": [
    "data = pd.read_csv(\"data\\\\test2.csv\")\n",
    "trainX = data.iloc[:,0:2]\n",
    "trainY = data.iloc[:,2]\n",
    "\n",
    "#Generate grid of data points to show prediction\n",
    "x = y = np.linspace(-2000,2000,500)\n",
    "df = pd.DataFrame(np.array(np.meshgrid(x,y)).T.reshape(-1,2))\n",
    "df = df.rename(index=int, columns={0: \"X1\", 1: \"X2\"})\n",
    "\n",
    "#NB\n",
    "nb = GaussianNB()\n",
    "nb.fit(trainX, trainY)\n",
    "df[\"PredictionNB\"]= nb.predict_proba(df)[:,0]\n",
    "\n",
    "#Plotting\n",
    "fig, ax = plt.subplots(1, 1)\n",
    "ax.set_ylim([-2000,2000])\n",
    "ax.set_xlim([-2000,2000])\n",
    "\n",
    "#Plot NB\n",
    "sns.scatterplot(x=df[\"X1\"],y=df[\"X2\"], hue=df[\"PredictionNB\"],s=20,linewidth=0,alpha=1,marker='s')\n",
    "#xx,yy,z = class_contour(df.iloc[:,:2].values,trainX,trainY,'naive')\n",
    "#ax.contour(xx,yy,z,[.5])\n",
    "\n",
    "sns.scatterplot(x=[0,1,2,3,3,4,5,6], y=[3,4,5,6,3,2,1,0],hue=[0,0,0,0,1,1,1,1])\n",
    "ax.legend().remove()\n"
   ]
  }
 ],
 "metadata": {
  "kernelspec": {
   "display_name": "Python 3",
   "language": "python",
   "name": "python3"
  },
  "language_info": {
   "codemirror_mode": {
    "name": "ipython",
    "version": 3
   },
   "file_extension": ".py",
   "mimetype": "text/x-python",
   "name": "python",
   "nbconvert_exporter": "python",
   "pygments_lexer": "ipython3",
   "version": "3.7.1"
  },
  "toc": {
   "base_numbering": 1,
   "nav_menu": {},
   "number_sections": false,
   "sideBar": true,
   "skip_h1_title": false,
   "title_cell": "Table of Contents",
   "title_sidebar": "Contents",
   "toc_cell": false,
   "toc_position": {},
   "toc_section_display": true,
   "toc_window_display": true
  },
  "varInspector": {
   "cols": {
    "lenName": 16,
    "lenType": 16,
    "lenVar": 40
   },
   "kernels_config": {
    "python": {
     "delete_cmd_postfix": "",
     "delete_cmd_prefix": "del ",
     "library": "var_list.py",
     "varRefreshCmd": "print(var_dic_list())"
    },
    "r": {
     "delete_cmd_postfix": ") ",
     "delete_cmd_prefix": "rm(",
     "library": "var_list.r",
     "varRefreshCmd": "cat(var_dic_list()) "
    }
   },
   "types_to_exclude": [
    "module",
    "function",
    "builtin_function_or_method",
    "instance",
    "_Feature"
   ],
   "window_display": false
  }
 },
 "nbformat": 4,
 "nbformat_minor": 2
}
