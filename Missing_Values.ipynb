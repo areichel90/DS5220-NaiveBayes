{
 "cells": [
  {
   "cell_type": "markdown",
   "metadata": {},
   "source": [
    "# Missing Values"
   ]
  },
  {
   "cell_type": "code",
   "execution_count": 1,
   "metadata": {},
   "outputs": [
    {
     "name": "stderr",
     "output_type": "stream",
     "text": [
      "Using TensorFlow backend.\n"
     ]
    }
   ],
   "source": [
    "import pandas as pd\n",
    "import numpy as np\n",
    "import matplotlib.pyplot as plt\n",
    "from sklearn import datasets\n",
    "import random\n",
    "from sklearn.naive_bayes import GaussianNB\n",
    "from sklearn.model_selection import train_test_split\n",
    "from fancyimpute import KNN, SimpleFill\n",
    "from sklearn.linear_model import LogisticRegression\n",
    "# from sklearn.ensemble import RandomForestClassifier\n",
    "from sklearn.svm import LinearSVC\n",
    "# from sklearn.calibration import calibration_curve\n",
    "# from sklearn.model_selection import train_test_split\n",
    "# from sklearn.metrics import confusion_matrix\n",
    "# from sklearn.naive_bayes import BernoulliNB\n",
    "plt.style.use('ggplot')"
   ]
  },
  {
   "cell_type": "markdown",
   "metadata": {},
   "source": [
    "**TODO**\n",
    "- KNN: what is best K value\n",
    "- Draw actual DB of data and DB of imputed data\n",
    "    - With smaller variance should have different DB shape"
   ]
  },
  {
   "cell_type": "markdown",
   "metadata": {},
   "source": [
    "### Generating Data\n"
   ]
  },
  {
   "cell_type": "code",
   "execution_count": 2,
   "metadata": {},
   "outputs": [],
   "source": [
    "n=1000\n",
    "np.random.seed(1)\n",
    "\n",
    "X,Y = datasets.make_classification(n_samples = n,\n",
    "                                   n_features=2,\n",
    "                                   n_redundant=0,\n",
    "                                   n_informative=2,\n",
    "                                   n_clusters_per_class=1,\n",
    "                                   class_sep=2,\n",
    "                                   random_state=3)"
   ]
  },
  {
   "cell_type": "code",
   "execution_count": 3,
   "metadata": {},
   "outputs": [],
   "source": [
    "## 0.25 of All data is saved for testing\n",
    "X, X_test, Y, Y_test = train_test_split(X, Y, test_size=0.25, random_state= 42)\n",
    "X, X_test, Y, Y_test = pd.DataFrame(X), pd.DataFrame(X_test), pd.DataFrame(Y), pd.DataFrame(Y_test)\n",
    "\n",
    "\n",
    "\n",
    "\"\"\"\n",
    "arg: X is df of values\n",
    "     p is prop of missing data\n",
    "return: X with that prop of data missing\n",
    "\"\"\"\n",
    "def createNaNValues(df, prop = 0.2):\n",
    "    df = df.copy()\n",
    "    numObs, numPred = df.shape\n",
    "    for predI in range(numPred):\n",
    "        missingArray = np.random.binomial(size = numObs, n = 1, p = 1-prop)\n",
    "        for obsI in range(numObs):\n",
    "            if not missingArray[obsI]:\n",
    "                df[predI][obsI] = np.nan\n",
    "    return df\n",
    "    \n",
    "# example missing data\n",
    "Xmissing = createNaNValues(X, 0.2)\n",
    "Ymissing = createNaNValues(Y, 0.2)"
   ]
  },
  {
   "cell_type": "markdown",
   "metadata": {},
   "source": [
    "## Imputation"
   ]
  },
  {
   "cell_type": "markdown",
   "metadata": {},
   "source": [
    "- Classes\n",
    "    - Proportional\n",
    "    - KNN voting\n",
    "- For Features:\n",
    "    - KNN \n",
    "    - Mean \n",
    "- For a given class, no values for a feature\n",
    "    - LaPlace smoothing"
   ]
  },
  {
   "cell_type": "code",
   "execution_count": 10,
   "metadata": {},
   "outputs": [],
   "source": [
    "# Find proportion of class 0 of Y\n",
    "# Helper function for classImpute\n",
    "def classProp(df):\n",
    "    sum0 = (df[0] == 0).sum()\n",
    "    sum1 = (df[0] == 1).sum()\n",
    "    return sum0/(sum0+sum1)\n",
    "\n",
    "# Impute classes for binary Y by proportion of that class\n",
    "# Arg is df, Returns df without missing values\n",
    "def classImpute(df):\n",
    "    tempDF = df.copy()\n",
    "    prop0 = classProp(tempDF)\n",
    "    for i in range(len(df[0])):\n",
    "        if np.isnan(tempDF[0][i]):\n",
    "            if random.random() > prop0:\n",
    "                tempDF[0][i]= 1\n",
    "            else:\n",
    "                tempDF[0][i]=0\n",
    "    return tempDF"
   ]
  },
  {
   "cell_type": "markdown",
   "metadata": {},
   "source": [
    "##### Variance Comparison"
   ]
  },
  {
   "cell_type": "code",
   "execution_count": 6,
   "metadata": {},
   "outputs": [],
   "source": [
    "%%capture\n",
    "\n",
    "## Sample Mean impute\n",
    "XmeanImpute = pd.DataFrame(SimpleFill().fit_transform(Xmissing))\n",
    "\n",
    "#KNN imputation does its best then fills in with 0 otherwise\n",
    "##Here only 6 values in each column are assigned 0\n",
    "XknnImpute = pd.DataFrame(KNN(k=5).fit_transform(Xmissing))"
   ]
  },
  {
   "cell_type": "code",
   "execution_count": 22,
   "metadata": {},
   "outputs": [
    {
     "data": {
      "image/png": "[encoded data removed]",
      "text/plain": [
       "<Figure size 432x288 with 1 Axes>"
      ]
     },
     "metadata": {
      "needs_background": "light"
     },
     "output_type": "display_data"
    }
   ],
   "source": [
    "# print(\"Variance of predictors Full data: %s,\\n \\\n",
    "#       Variance of predictors without imputation: %s,\\n \\\n",
    "#         Variance of predictors with mean imputation: %s,\\n \\\n",
    "#         Variance of predictors with KNN imputation: %s\" % \n",
    "#       (X.std()**2, Xmissing.std()**2, XmeanImpute.std()**2, XknnImpute.std()**2))\n",
    "# objects = ('Python', 'C++', 'Java', 'Perl', 'Scala', 'Lisp')\n",
    "# y_pos = np.arange(len(objects))\n",
    "# performance = [10,8,6,4,2,1]\n",
    " \n",
    "# plt.bar(y_pos, performance, align='center', alpha=0.5)\n",
    "# plt.xticks(y_pos, objects)\n",
    "# plt.ylabel('Usage')\n",
    "# plt.title('Programming language usage')\n",
    " \n",
    "# plt.show()\n",
    "xVar = X.std()**2\n",
    "xMissVar = Xmissing.std()**2\n",
    "xMeanVar = XmeanImpute.std()**2\n",
    "xKnnVar = XknnImpute.std()**2\n",
    "\n",
    "varianceCompare = [1, xMissVar[1]/xVar[1], xMeanVar[1]/xVar[1], xKnnVar[1]/xVar[1]]\n",
    "methodNames = (\"No NaN\", \"NaN No Impute\", \"NaN Mean Impute\", \"NaN KNN Impute\")\n",
    "y_pos = np.arange(len(methodNames))\n",
    "\n",
    "plt.bar(y_pos, varianceCompare, align=\"center\")\n",
    "plt.xticks(y_pos, methodNames, rotation=45)\n",
    "plt.ylim(0.75, 1)\n",
    "plt.ylabel(\"Data Characteristics\")\n",
    "plt.title(\"Variance with Imputation\")\n",
    "plt.show()"
   ]
  },
  {
   "cell_type": "markdown",
   "metadata": {},
   "source": [
    "## Naive Bayes performance"
   ]
  },
  {
   "cell_type": "code",
   "execution_count": 14,
   "metadata": {},
   "outputs": [
    {
     "name": "stdout",
     "output_type": "stream",
     "text": [
      "Test Accuracy with no Missing: 0.996\n"
     ]
    }
   ],
   "source": [
    "gnb = GaussianNB()\n",
    "\n",
    "##TODO pass test set to function also\n",
    "## right now X and Y are pandas df's\n",
    "def getAccuracy(X, Y, xtest, ytest, method=gnb):\n",
    "    pred = method.fit(X, Y[0]).predict(xtest)\n",
    "    correct = (pred==list(ytest[0])).sum()\n",
    "    return float(correct)/ytest.shape[0]\n",
    "\n",
    "full_acc = getAccuracy(X, Y, X_test, Y_test)\n",
    "\n",
    "print(\"Test Accuracy with no Missing: %s\" % (full_acc))"
   ]
  },
  {
   "cell_type": "markdown",
   "metadata": {},
   "source": [
    "### X with missing data imputed"
   ]
  },
  {
   "cell_type": "code",
   "execution_count": 15,
   "metadata": {},
   "outputs": [
    {
     "name": "stdout",
     "output_type": "stream",
     "text": [
      "Accuracy on X mean impute: 0.996 \n",
      "\n",
      "Accuracy on X knn impute: 0.996\n"
     ]
    }
   ],
   "source": [
    "XmeanImpute.shape\n",
    "\n",
    "meanImpute_acc = getAccuracy(XmeanImpute, Y, X_test, Y_test)\n",
    "print(\"Accuracy on X mean impute: %s \\n\" % (meanImpute_acc))\n",
    "\n",
    "knnImpute_acc = getAccuracy(XknnImpute, Y, X_test, Y_test)\n",
    "print(\"Accuracy on X knn impute: %s\" % (knnImpute_acc))"
   ]
  },
  {
   "cell_type": "markdown",
   "metadata": {},
   "source": [
    "   #### Getting a range of imputed data for X"
   ]
  },
  {
   "cell_type": "code",
   "execution_count": 16,
   "metadata": {},
   "outputs": [],
   "source": [
    "def makeMissingList(X, Y, props):\n",
    "    X_missing_list = list()\n",
    "    \n",
    "    for i in props:\n",
    "        newMissX = insertMissing(X, i)\n",
    "        X_missing_list.append(newMissX)\n",
    "    \n",
    "    return X_missing_list\n",
    "\n",
    "def getMissingAccuracies(X, Y, props, impute = 'mean', method=gnb):\n",
    "    imputeFunction = SimpleFill().fit_transform if impute == 'mean' else KNN(k=10).fit_transform\n",
    "    X_missing_list = makeMissingList(X, Y, props)\n",
    "    \n",
    "    missing_acc = list()\n",
    "    for x in X_missing_list:\n",
    "        x_imputed = pd.DataFrame(imputeFunction(x))\n",
    "        ### TODO should have X_test and Y_test as parameters\n",
    "        acc = getAccuracy(x_imputed, Y, X_test, Y_test, method)\n",
    "        missing_acc.append(acc)\n",
    "    \n",
    "    ### concat accuracy list and np.arange\n",
    "    acc_df = pd.concat([pd.Series(props), pd.Series(missing_acc)], axis=1)\n",
    "    return acc_df"
   ]
  },
  {
   "cell_type": "markdown",
   "metadata": {},
   "source": [
    "#### Logistic Regression"
   ]
  },
  {
   "cell_type": "code",
   "execution_count": 17,
   "metadata": {},
   "outputs": [
    {
     "name": "stdout",
     "output_type": "stream",
     "text": [
      "Log Reg acc on test X, no missing:  0.996\n"
     ]
    }
   ],
   "source": [
    "x_miss_list = makeMissingList(X, Y, np.arange(0,1,0.02))\n",
    "lr = LogisticRegression(solver=\"lbfgs\")\n",
    "\n",
    "lrFullModel = lr.fit(X, Y[0])\n",
    "lrFullPred = lrFullModel.predict(X_test)\n",
    "\n",
    "lrFullAcc = np.sum(lrFullPred == Y_test[0])/len(Y_test)\n",
    "print(\"Log Reg acc on test X, no missing: \", lrFullAcc)"
   ]
  },
  {
   "cell_type": "markdown",
   "metadata": {},
   "source": [
    "#### SVM"
   ]
  },
  {
   "cell_type": "code",
   "execution_count": 18,
   "metadata": {},
   "outputs": [
    {
     "name": "stdout",
     "output_type": "stream",
     "text": [
      "SVM acc on full X, no missing:  0.996\n"
     ]
    }
   ],
   "source": [
    "svm = LinearSVC()\n",
    "svmFullModel = svm.fit(X, Y[0])\n",
    "svmFullPred = svmFullModel.predict(X_test)\n",
    "\n",
    "svmFullAcc = np.sum(svmFullPred==Y_test[0])/len(Y_test)\n",
    "print(\"SVM acc on full X, no missing: \", svmFullAcc)"
   ]
  },
  {
   "cell_type": "markdown",
   "metadata": {},
   "source": [
    "### Plot of Accuracy vs Prop of Missing Data Imputed \n",
    "##### Mean Impute"
   ]
  },
  {
   "cell_type": "code",
   "execution_count": 28,
   "metadata": {},
   "outputs": [],
   "source": [
    "missingRange = np.arange(0.3,1, ((1-.3)/50))"
   ]
  },
  {
   "cell_type": "code",
   "execution_count": 29,
   "metadata": {},
   "outputs": [],
   "source": [
    "%%capture\n",
    "acc_mean_gnb = getMissingAccuracies(X, Y, missingRange)\n",
    "acc_mean_lr = getMissingAccuracies(X, Y, missingRange, method=lr)\n",
    "acc_mean_svm = getMissingAccuracies(X, Y, missingRange, method=svm)"
   ]
  },
  {
   "cell_type": "code",
   "execution_count": 31,
   "metadata": {},
   "outputs": [
    {
     "data": {
      "text/plain": [
       "Text(0.5, 1.0, 'Accuracy on Mean imputed')"
      ]
     },
     "execution_count": 31,
     "metadata": {},
     "output_type": "execute_result"
    },
    {
     "data": {
      "image/png": "[encoded data removed]",
      "text/plain": [
       "<Figure size 432x288 with 1 Axes>"
      ]
     },
     "metadata": {},
     "output_type": "display_data"
    }
   ],
   "source": [
    "plt.scatter(x=missingRange, y=(acc_mean_gnb[1]*100), c=\"blue\", label=\"NB\", alpha=0.8)\n",
    "plt.scatter(x=missingRange, y=(acc_mean_lr[1]*100), c='red', label=\"Log. Reg.\", alpha=0.8)\n",
    "plt.scatter(x=missingRange, y=(acc_mean_svm[1]*100), c='green', label=\"SVM\", alpha=0.8)\n",
    "plt.legend()\n",
    "plt.xlabel(\"Percent of missing data\")\n",
    "plt.ylabel(\"Accuracy Percentage\")\n",
    "plt.title(\"Accuracy on Mean imputed\")"
   ]
  },
  {
   "cell_type": "markdown",
   "metadata": {},
   "source": [
    "##### KNN Impute (K=10)"
   ]
  },
  {
   "cell_type": "code",
   "execution_count": 32,
   "metadata": {},
   "outputs": [],
   "source": [
    "%%capture\n",
    "\n",
    "acc_knn_gnb = getMissingAccuracies(X, Y, missingRange, impute=\"KNN\")\n",
    "acc_knn_lr = getMissingAccuracies(X, Y, missingRange, impute=\"KNN\", method = lr)\n",
    "acc_knn_svm = getMissingAccuracies(X, Y, missingRange, impute=\"KNN\", method = svm)"
   ]
  },
  {
   "cell_type": "code",
   "execution_count": 33,
   "metadata": {},
   "outputs": [
    {
     "data": {
      "text/plain": [
       "Text(0.5, 1.0, 'Accuracy on KNN imputed')"
      ]
     },
     "execution_count": 33,
     "metadata": {},
     "output_type": "execute_result"
    },
    {
     "data": {
      "image/png": "[encoded data removed]",
      "text/plain": [
       "<Figure size 432x288 with 1 Axes>"
      ]
     },
     "metadata": {},
     "output_type": "display_data"
    }
   ],
   "source": [
    "plt.scatter(x=missingRange, y=(acc_knn_gnb[1]*100), c=\"blue\", label=\"NB\", alpha=0.8)\n",
    "plt.scatter(x=missingRange, y=(acc_knn_lr[1]*100), c='red', label=\"Log. Reg.\", alpha=0.8)\n",
    "plt.scatter(x=missingRange, y=(acc_knn_svm[1]*100), c='green', label=\"SVM\", alpha=0.8)\n",
    "plt.legend()\n",
    "plt.xlabel(\"Percent of missing data\")\n",
    "plt.ylabel(\"Accuracy Percentage\")\n",
    "plt.title(\"Accuracy on KNN imputed\")"
   ]
  },
  {
   "cell_type": "markdown",
   "metadata": {},
   "source": [
    "## Y with missing data imputed"
   ]
  },
  {
   "cell_type": "code",
   "execution_count": 64,
   "metadata": {},
   "outputs": [
    {
     "name": "stdout",
     "output_type": "stream",
     "text": [
      "Accuracy with proportional Y imputed:  0.936\n"
     ]
    }
   ],
   "source": [
    "yPropImpute_acc = getTrainAccuracy(X, YpropImpute)\n",
    "print(\"Accuracy with proportional Y imputed:  %s\" % (yPropImpute_acc))"
   ]
  },
  {
   "cell_type": "markdown",
   "metadata": {},
   "source": [
    "## Conclusions"
   ]
  },
  {
   "cell_type": "markdown",
   "metadata": {},
   "source": [
    "**Variance**\n",
    "- changes when impute (especially mean impute)\n",
    "    - where will it misclassify new points?\n",
    "- class impute effect?\n",
    "\n"
   ]
  },
  {
   "cell_type": "code",
   "execution_count": null,
   "metadata": {},
   "outputs": [],
   "source": []
  }
 ],
 "metadata": {
  "kernelspec": {
   "display_name": "Python [conda env:New3]",
   "language": "python",
   "name": "conda-env-New3-py"
  },
  "language_info": {
   "codemirror_mode": {
    "name": "ipython",
    "version": 3
   },
   "file_extension": ".py",
   "mimetype": "text/x-python",
   "name": "python",
   "nbconvert_exporter": "python",
   "pygments_lexer": "ipython3",
   "version": "3.7.2"
  }
 },
 "nbformat": 4,
 "nbformat_minor": 2
}
