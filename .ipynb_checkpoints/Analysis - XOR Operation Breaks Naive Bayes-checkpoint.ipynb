{
 "cells": [
  {
   "cell_type": "code",
   "execution_count": 1,
   "metadata": {},
   "outputs": [],
   "source": [
    "import pandas as pd\n",
    "import numpy as np\n",
    "import matplotlib.pyplot as plt\n",
    "from sklearn import datasets\n",
    "import random\n",
    "from sklearn.naive_bayes import GaussianNB\n",
    "from sklearn.linear_model import LogisticRegression\n",
    "from sklearn.ensemble import RandomForestClassifier\n",
    "from sklearn.svm import LinearSVC\n",
    "from sklearn.calibration import calibration_curve\n",
    "from sklearn.model_selection import train_test_split\n",
    "from sklearn.metrics import confusion_matrix\n",
    "from sklearn.naive_bayes import BernoulliNB\n",
    "from sklearn.tree import DecisionTreeClassifier\n",
    "from sklearn.discriminant_analysis import QuadraticDiscriminantAnalysis\n",
    "import warnings\n",
    "warnings.filterwarnings('ignore')\n",
    "\n",
    "%matplotlib inline\n",
    "#plt.style.use('ggplot')"
   ]
  },
  {
   "cell_type": "code",
   "execution_count": 2,
   "metadata": {},
   "outputs": [
    {
     "name": "stdout",
     "output_type": "stream",
     "text": [
      "Class balance: 0.4925\n",
      "\n",
      "NB Accuracy: 0.486\n",
      "[[627 649]\n",
      " [636 588]]\n",
      "\n",
      "Decision Tree Accuracy: 1.0\n",
      "[[1276    0]\n",
      " [   0 1224]]\n"
     ]
    }
   ],
   "source": [
    "#Generate data where X1 and X2 have same distribution and Y = 1 when X1+X2==1\n",
    "n=10000\n",
    "np.random.seed(0)\n",
    "X1 = np.random.binomial(size=n, n=1, p= 0.5)\n",
    "X2 = np.random.binomial(size=n, n=1, p= 0.5)\n",
    "X = np.concatenate((X1.reshape(-1,1),X2.reshape(-1,1)),axis=1)\n",
    "Y = np.array(X1+X2==1,dtype=int)\n",
    "trainX, testX = train_test_split(X, shuffle=False)\n",
    "trainY, testY = train_test_split(Y, shuffle=False)\n",
    "\n",
    "bnb = BernoulliNB()\n",
    "bnb.fit(trainX,trainY)\n",
    "predictions = bnb.predict(testX)\n",
    "tn, fp, fn, tp = confusion_matrix(testY,predictions).ravel()\n",
    "print(\"Class balance:\",np.sum(Y)/Y.shape[0])\n",
    "\n",
    "print(\"\\nNB Accuracy:\",((tp+tn)/(tn+fp+fn+tp)))\n",
    "print(confusion_matrix(testY,predictions))\n",
    "#Accuracy increases as the distribution means separate\n",
    "#Decision tree handles this case perfectly\n",
    "\n",
    "#Logisticregression also has 48% accuracy but randomforest has 100%\n",
    "#lr = LogisticRegression(solver='lbfgs')\n",
    "#lr = LinearSVC(C=1.0)\n",
    "lr = clf = DecisionTreeClassifier(random_state=0)\n",
    "lr.fit(trainX,trainY)\n",
    "predictions = lr.predict(testX)\n",
    "tn, fp, fn, tp = confusion_matrix(testY,predictions).ravel()\n",
    "print(\"\\nDecision Tree Accuracy:\",((tp+tn)/(tn+fp+fn+tp)))\n",
    "print(confusion_matrix(testY,predictions))\n"
   ]
  }
 ],
 "metadata": {
  "kernelspec": {
   "display_name": "Python 3",
   "language": "python",
   "name": "python3"
  },
  "language_info": {
   "codemirror_mode": {
    "name": "ipython",
    "version": 3
   },
   "file_extension": ".py",
   "mimetype": "text/x-python",
   "name": "python",
   "nbconvert_exporter": "python",
   "pygments_lexer": "ipython3",
   "version": "3.7.1"
  }
 },
 "nbformat": 4,
 "nbformat_minor": 2
}
